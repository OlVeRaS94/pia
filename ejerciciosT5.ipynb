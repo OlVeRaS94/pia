{
 "cells": [
  {
   "cell_type": "markdown",
   "metadata": {},
   "source": [
    "Fer una funció que reb un text i una grandària. Imprimirà el text centrat en dita grandària . La grandària per defecte sera `80`"
   ]
  },
  {
   "cell_type": "code",
   "execution_count": 15,
   "metadata": {},
   "outputs": [
    {
     "name": "stdout",
     "output_type": "stream",
     "text": [
      "                                   Hola, món!                                   \n",
      "Benvinguts a la programació en Python!\n"
     ]
    }
   ],
   "source": [
    "def text_centrat(text, grandaria=80):\n",
    "    # Centrar el text en la grandària especificada\n",
    "    text_centrat = text.center(grandaria)\n",
    "    # Imprimir el text centrat\n",
    "    print(text_centrat)\n",
    "\n",
    "# Exemple d'ús de la funció\n",
    "text_centrat(\"Hola, món!\")\n",
    "text_centrat(\"Benvinguts a la programació en Python!\", 20)"
   ]
  },
  {
   "cell_type": "markdown",
   "metadata": {},
   "source": [
    "Fer una funció que demanarà una fracció (numerador i denominador) i ho retornarà en un diccionari"
   ]
  },
  {
   "cell_type": "code",
   "execution_count": 5,
   "metadata": {},
   "outputs": [
    {
     "name": "stdout",
     "output_type": "stream",
     "text": [
      "La fracció és: {'numerador': 1, 'denominador': 5}\n"
     ]
    }
   ],
   "source": [
    "def demanar_fracció():\n",
    "    # Demanar el numerador\n",
    "    numerador = int(input(\"Disme el numerador: \"))\n",
    "    # Demanar el denominador\n",
    "    while True:\n",
    "        denominador = int(input(\"Disme el denominador:\"))\n",
    "        if denominador != 0:\n",
    "            break\n",
    "        else:\n",
    "            print(\"Error, el denominador no pot ser 0. Disme un altre denominador:\")\n",
    "    fracció = {\"numerador\": numerador, \"denominador\": denominador}\n",
    "    # Retornar el diccionari\n",
    "    return fracció\n",
    "\n",
    "# Exemple d'ús de la funció\n",
    "fracció = demanar_fracció()\n",
    "print(\"La fracció és:\", fracció)"
   ]
  },
  {
   "cell_type": "markdown",
   "metadata": {},
   "source": [
    "Fer una funció que rebrà un número de fraccions i demanarà i retornarà un llistat amb tantes fraccions com dit número."
   ]
  },
  {
   "cell_type": "code",
   "execution_count": 4,
   "metadata": {},
   "outputs": [
    {
     "name": "stdout",
     "output_type": "stream",
     "text": [
      "Les fraccions són: [{'numerador': 3, 'denominador': 6}, {'numerador': 6, 'denominador': 2}]\n"
     ]
    }
   ],
   "source": [
    "def demanar_fraccions(n):\n",
    "    # Crear la llista de fraccions\n",
    "    llista_fraccions = []\n",
    "    # Demanar les fraccions\n",
    "    for i in range(n):\n",
    "        # Demanar el numerador\n",
    "        numerador = int(input(f\"Introdueix el numerador de la fracció {i+1}: \"))\n",
    "        # Demanar el denominador\n",
    "        denominador = int(input(f\"Introdueix el denominador de la fracció {i+1}: \"))\n",
    "        # Crear el diccionari de la fracció\n",
    "        fracció = {\"numerador\": numerador, \"denominador\": denominador}\n",
    "        # Afegir la fracció a la llista\n",
    "        llista_fraccions.append(fracció)\n",
    "    # Retornar la llista de fraccions\n",
    "    return llista_fraccions\n",
    "\n",
    "# Exemple d'ús de la funció\n",
    "n = int(input(\"Introdueix el nombre de fraccions: \"))\n",
    "llista_fraccions = demanar_fraccions(n)\n",
    "print(\"Les fraccions són:\", llista_fraccions)"
   ]
  }
 ],
 "metadata": {
  "kernelspec": {
   "display_name": "venv",
   "language": "python",
   "name": "python3"
  },
  "language_info": {
   "codemirror_mode": {
    "name": "ipython",
    "version": 3
   },
   "file_extension": ".py",
   "mimetype": "text/x-python",
   "name": "python",
   "nbconvert_exporter": "python",
   "pygments_lexer": "ipython3",
   "version": "3.12.3"
  }
 },
 "nbformat": 4,
 "nbformat_minor": 2
}
