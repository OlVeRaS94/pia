{
 "cells": [
  {
   "cell_type": "markdown",
   "metadata": {},
   "source": [
    "## Overfitting i underfitting\n",
    "\n",
    "[Descarrega el dataset preu de les cases a Iowa (train.csv)](../data/train.csv)\n",
    "\n",
    "A la teoria hem vist que hi ha formes de controlar el subajustament i el sobreajustament.\n",
    "\n",
    "En el cas de l'algorisme `DecissionTreeRegressor`, l'ajust de paràmetres ens permete que algunes rutes a través de l'arbre tinguen una profunditat més gran que altres rutes, per exemple. \n",
    "\n",
    "També podem controlar la profunditat màxima amb l'argument `max_leaf_nodes`. Simplement modificant-lo, podem controlar el sobreajustament i el subajustament ja que com més fulles permetem que el model faça, més ens movem de l'àrea entre el underfitting i el overfitting."
   ]
  },
  {
   "cell_type": "markdown",
   "metadata": {},
   "source": [
    "### Carreguem les dades i preparem les dades per al model"
   ]
  },
  {
   "cell_type": "code",
   "execution_count": null,
   "metadata": {},
   "outputs": [],
   "source": [
    "import warnings\n",
    "warnings.filterwarnings('ignore')\n",
    "\n",
    "import pandas as pd\n",
    "\n",
    "iowa_file_path = 'data/train.csv'\n",
    "\n",
    "home_data = pd.read_csv(iowa_file_path, index_col='Id')\n",
    "\n",
    "from sklearn.preprocessing import LabelEncoder\n",
    "\n",
    "le = LabelEncoder()\n",
    "\n",
    "home_data_encoded = home_data.apply(lambda col: le.fit_transform(col) if col.dtype == 'O' else col)\n",
    "\n",
    "home_data_encoded = home_data_encoded.dropna(axis=1)\n",
    "\n",
    "X = home_data_encoded.drop('SalePrice', axis = 1)\n",
    "\n",
    "y = home_data_encoded['SalePrice']\n",
    "\n",
    "from sklearn.model_selection import train_test_split\n",
    "X_train, X_test, y_train, y_test = train_test_split(X, y, random_state=1)"
   ]
  },
  {
   "cell_type": "markdown",
   "metadata": {},
   "source": [
    "### Pregunta 1\n",
    "\n",
    "Crea una funció `get_mae` que reba com a arguments:\n",
    "\n",
    "- max_leaf_nodes\n",
    "- X_train: dades per a entrenament\n",
    "- X_test: dades de validació\n",
    "- y_train: target d'entrenament\n",
    "- y_test: target de validació\n",
    "\n",
    "I torne l'error absolut mitjà."
   ]
  },
  {
   "cell_type": "code",
   "execution_count": null,
   "metadata": {},
   "outputs": [],
   "source": []
  },
  {
   "cell_type": "markdown",
   "metadata": {},
   "source": [
    "### Pregunta 2\n",
    "\n",
    "Utilitzant la funció de l'anterior pregunta, fes un gràfic per veure com evoluciona el mae al variar el `max_leaf_nodes` entre els valors 2 i 300."
   ]
  },
  {
   "cell_type": "code",
   "execution_count": null,
   "metadata": {},
   "outputs": [],
   "source": [
    "\n",
    "    "
   ]
  },
  {
   "cell_type": "markdown",
   "metadata": {},
   "source": [
    "### Pregunta 3\n",
    "\n",
    "Explica el gràfic anterior. Es correspon amb el que hem explicat teòricament?"
   ]
  },
  {
   "cell_type": "markdown",
   "metadata": {},
   "source": [
    " "
   ]
  },
  {
   "cell_type": "markdown",
   "metadata": {},
   "source": [
    "### Pregunta 4\n",
    "\n",
    "Amb l'ajuda del gràfic anterior intenta determinar en al voltant de quin valor es situa el `max_leaf_nodes` òptim.\n",
    "\n",
    "Fes diversos gràfics al voltant dels valors òptims de mae fins determinar el mae òptim."
   ]
  },
  {
   "cell_type": "code",
   "execution_count": null,
   "metadata": {},
   "outputs": [],
   "source": []
  },
  {
   "cell_type": "code",
   "execution_count": null,
   "metadata": {},
   "outputs": [],
   "source": []
  },
  {
   "cell_type": "markdown",
   "metadata": {},
   "source": [
    "### Pregunta 5\n",
    "\n",
    "Quin és el mae òptim segons les observacions gràfiques? "
   ]
  },
  {
   "cell_type": "markdown",
   "metadata": {},
   "source": []
  },
  {
   "cell_type": "markdown",
   "metadata": {},
   "source": [
    "### Pregunta 6\n",
    "\n",
    "Fes un algorisme per determinar quin és el paràmetre òptim de `mx_leaf_node`."
   ]
  },
  {
   "cell_type": "code",
   "execution_count": null,
   "metadata": {},
   "outputs": [],
   "source": [
    "\n",
    "\n"
   ]
  },
  {
   "cell_type": "markdown",
   "metadata": {},
   "source": [
    "### Pregunta 7\n",
    "\n",
    "Calcula el mae per al valor `max_leaf_node = 73`. \n",
    "\n",
    "Quina és la diferència respecte a un valor `max_leaf_node = 87`?"
   ]
  },
  {
   "cell_type": "code",
   "execution_count": null,
   "metadata": {},
   "outputs": [],
   "source": []
  },
  {
   "cell_type": "markdown",
   "metadata": {},
   "source": [
    "### Pregunta 8\n",
    "\n",
    "Encara que el valor òptim del paràmetre `max_leaf_node` és 87, computacionalment seria més convenient agafar el valor 73, ja que tardaria menys en executar? Demostra la teua afirmació fent un càlcul d'una dada aleatòria. Utilitza la funció `sample()` per agafar una dada aleatòria d'un dataframe."
   ]
  },
  {
   "cell_type": "code",
   "execution_count": null,
   "metadata": {},
   "outputs": [],
   "source": []
  },
  {
   "cell_type": "markdown",
   "metadata": {},
   "source": [
    "### Pregunta 9\n",
    "\n",
    "Fes una funció que imprimisca per consola tres valors, les prediccions del model amb max_leaf_nodes = 73 i  max_leaf_nodes = 87 i la diferència.\n",
    "\n",
    "Utilitza eixa funció per a provar amb 10 valors aleatòris.\n",
    "\n",
    "Moltes vegades dóna el mateix valor. És normal? Justifica la resposta."
   ]
  },
  {
   "cell_type": "code",
   "execution_count": null,
   "metadata": {},
   "outputs": [],
   "source": [
    "\n",
    "          \n"
   ]
  },
  {
   "cell_type": "markdown",
   "metadata": {},
   "source": []
  }
 ],
 "metadata": {
  "kernelspec": {
   "display_name": "pia",
   "language": "python",
   "name": "python3"
  },
  "language_info": {
   "codemirror_mode": {
    "name": "ipython",
    "version": 3
   },
   "file_extension": ".py",
   "mimetype": "text/x-python",
   "name": "python",
   "nbconvert_exporter": "python",
   "pygments_lexer": "ipython3",
   "version": "3.11.5"
  }
 },
 "nbformat": 4,
 "nbformat_minor": 2
}
