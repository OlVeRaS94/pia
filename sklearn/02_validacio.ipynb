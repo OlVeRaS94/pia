{
 "cells": [
  {
   "cell_type": "markdown",
   "metadata": {},
   "source": [
    "## Validació del model\n",
    "\n",
    "En esta activitat veure'm com de bo és el nostre model. \n",
    "\n",
    "[Descarrega el dataset preu de les cases a Iowa (train.csv)](../data/train.csv)"
   ]
  },
  {
   "cell_type": "code",
   "execution_count": 1,
   "metadata": {},
   "outputs": [
    {
     "name": "stdout",
     "output_type": "stream",
     "text": [
      "Prediccions dels prin¡mers 5 habitatges: [208500. 181500. 223500. 140000. 250000.]\n",
      "Valors reals de venda: [208500, 181500, 223500, 140000, 250000]\n"
     ]
    }
   ],
   "source": [
    "import warnings\n",
    "warnings.filterwarnings('ignore')\n",
    "\n",
    "import pandas as pd\n",
    "from sklearn.tree import DecisionTreeRegressor\n",
    "\n",
    "iowa_file_path = 'data/train.csv'\n",
    "\n",
    "home_data = pd.read_csv(iowa_file_path)\n",
    "\n",
    "# Target\n",
    "y = home_data.SalePrice\n",
    "\n",
    "# Selecció de variables\n",
    "feature_columns = ['LotArea', 'YearBuilt', '1stFlrSF', '2ndFlrSF', 'FullBath', 'BedroomAbvGr', 'TotRmsAbvGrd']\n",
    "X = home_data[feature_columns]\n",
    "\n",
    "iowa_model = DecisionTreeRegressor()\n",
    "\n",
    "# Entrenament\n",
    "iowa_model.fit(X, y)\n",
    "\n",
    "# Prediccions\n",
    "print(\"Prediccions dels prin¡mers 5 habitatges:\", iowa_model.predict(X.head()))\n",
    "print(\"Valors reals de venda:\", y.head().tolist())"
   ]
  },
  {
   "cell_type": "markdown",
   "metadata": {},
   "source": [
    "### Pregunta 1\n",
    "\n",
    "Separa les dades les dades en dos blocs, una per a entrenament i una altra per a test."
   ]
  },
  {
   "cell_type": "code",
   "execution_count": null,
   "metadata": {},
   "outputs": [],
   "source": []
  },
  {
   "cell_type": "markdown",
   "metadata": {},
   "source": [
    "### Pregunta 2\n",
    "\n",
    "Entrena el model amb les dades que corresponen a entrenament."
   ]
  },
  {
   "cell_type": "code",
   "execution_count": null,
   "metadata": {},
   "outputs": [],
   "source": []
  },
  {
   "cell_type": "markdown",
   "metadata": {},
   "source": [
    "### Pregunta 3\n",
    "\n",
    "Agafa les primeres 5 dades de les dades d'entrenament (train_X) i utilitza el model per a fer una predicció del preu de venda.\n",
    "\n",
    "Compara el preu prediut amb el preu real per a eixos habitatges."
   ]
  },
  {
   "cell_type": "code",
   "execution_count": null,
   "metadata": {},
   "outputs": [],
   "source": []
  },
  {
   "cell_type": "markdown",
   "metadata": {},
   "source": [
    "### Pregunta 4\n",
    "\n",
    "Agafa les primeres 5 dades de les dades de validació (test_X) i utilitza el model per a fer una predicció del preu de venda.\n",
    "\n",
    "Compara el preu prediut amb el preu real per a eixos habitatges."
   ]
  },
  {
   "cell_type": "code",
   "execution_count": null,
   "metadata": {},
   "outputs": [],
   "source": []
  },
  {
   "cell_type": "markdown",
   "metadata": {},
   "source": [
    "### Pregunta 5\n",
    "\n",
    "Comenta el resultats obtesos en les dues preguntes anteriors."
   ]
  },
  {
   "cell_type": "markdown",
   "metadata": {},
   "source": []
  },
  {
   "cell_type": "markdown",
   "metadata": {},
   "source": [
    "### Pregunta 6\n",
    "\n",
    "Calcula l'error absolut mitjà en fer prediccions amb el nostre model tant per a les dades d'entrenament com per a les de validació. Comenta els resultats."
   ]
  },
  {
   "cell_type": "code",
   "execution_count": null,
   "metadata": {},
   "outputs": [],
   "source": []
  },
  {
   "cell_type": "markdown",
   "metadata": {},
   "source": []
  },
  {
   "cell_type": "markdown",
   "metadata": {},
   "source": [
    "### Pregunta 7\n",
    "\n",
    "Calcula el percentatge que representa el MAE tanty per a les dades d'entrenament com de validació front al preu mitjà dels habitatges.\n",
    "\n",
    "Quin és menor? Perquè?"
   ]
  },
  {
   "cell_type": "code",
   "execution_count": null,
   "metadata": {},
   "outputs": [],
   "source": []
  },
  {
   "cell_type": "markdown",
   "metadata": {},
   "source": []
  }
 ],
 "metadata": {
  "kernelspec": {
   "display_name": "pia",
   "language": "python",
   "name": "python3"
  },
  "language_info": {
   "codemirror_mode": {
    "name": "ipython",
    "version": 3
   },
   "file_extension": ".py",
   "mimetype": "text/x-python",
   "name": "python",
   "nbconvert_exporter": "python",
   "pygments_lexer": "ipython3",
   "version": "3.11.5"
  }
 },
 "nbformat": 4,
 "nbformat_minor": 2
}
