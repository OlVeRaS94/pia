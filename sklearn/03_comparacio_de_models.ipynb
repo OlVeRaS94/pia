{
 "cells": [
  {
   "cell_type": "markdown",
   "metadata": {},
   "source": [
    "## Comparació de models de regressió per al preu de les cases de IOWA\n",
    "\n",
    "[Descarrega el dataset preu de les cases a Iowa (train.csv)](../data/train.csv)\n",
    "\n",
    "A l'activitat anterior utilitzarem el *DecisionTreeRegressor* per fer prediccions del preu de la vivenda a IOWA. En esta activitat anem a provar de nou el *DecisionTreeRegressor* amb més característiques i altres algorismes de ML per fer les nostres prediccions i comparar els diferents resultats dels models:\n",
    "\n",
    "- LinearRegression: Busca la recta que més s'ajusta a les dades per minimitzar l'error.\n",
    "- Support Vector Machines - SVM: Busca l'hiperplà que millor s'ajusta a la distribució de dades.\n",
    "- Random Forest: Combina les prediccions de múltiples arbres de decisió per millorar la precisió i reduir el sobreajustament.\n",
    "- GradientBoostingRegressor: Construeix arbres successius per corregir els errors dels anteriors i millorar progressivament la precisió.\n",
    "- LASSO: Realitza regressió amb penalització, reduint alguns coeficients a zero per anar descartant algunes característiques.\n",
    "- RIDGE: Semblant a LASSO i evita l'ús de coeficient molt grans.\n",
    "\n",
    "<div class=\"admonition warning\">\n",
    "  <p class=\"admonition-title\">Compte!</p>\n",
    "  <p>\n",
    "    Utiliza un random_state = 1 en fer la separació en blocs d'entrenament i validació en tots els models per poder comparar els errors\n",
    "  </p>\n",
    "</div>\n"
   ]
  },
  {
   "cell_type": "markdown",
   "metadata": {},
   "source": [
    "### Càrrega de dades\n",
    "\n",
    "Carreguem les dades `train.csv` a una variable `home_data`."
   ]
  },
  {
   "cell_type": "code",
   "execution_count": null,
   "metadata": {},
   "outputs": [],
   "source": [
    "import warnings\n",
    "warnings.filterwarnings('ignore')\n",
    "\n",
    "import pandas as pd\n",
    "\n",
    "iowa_file_path = 'data/train.csv'\n",
    "\n",
    "home_data = pd.read_csv(iowa_file_path, index_col='Id')\n",
    "\n",
    "home_data.head()"
   ]
  },
  {
   "cell_type": "markdown",
   "metadata": {},
   "source": [
    "### Preparem les dades\n",
    "\n",
    "En l'anterior pràctica ens quedarem solament amb dades numèriques. El DataFrame conté dades categòriques, però ja vam estudiar el *one-hot encoding* per a transformar-les en numèriques. En esta ocasió, per no crear noves columnes i relantitzar els càlculs, anem a aplicar el mètode LabelEncoder, que directament substitueix els valors categòrics per números. \n",
    "\n",
    "Aplica'l per convertir totes les dades en numèriques."
   ]
  },
  {
   "cell_type": "code",
   "execution_count": null,
   "metadata": {},
   "outputs": [],
   "source": [
    "from sklearn.preprocessing import LabelEncoder\n",
    "\n",
    "le = LabelEncoder()\n",
    "\n",
    "home_data_encoded = home_data.apply(lambda col: le.fit_transform(col) if col.dtype == 'O' else col)"
   ]
  },
  {
   "cell_type": "code",
   "execution_count": null,
   "metadata": {},
   "outputs": [],
   "source": [
    "print(home_data.info())"
   ]
  },
  {
   "cell_type": "code",
   "execution_count": null,
   "metadata": {},
   "outputs": [],
   "source": [
    "print(home_data_encoded.info())"
   ]
  },
  {
   "cell_type": "markdown",
   "metadata": {},
   "source": [
    "Com pots observar, hi ha columnes amb valors nulls. Podriem aplicar les tècniques estudiades per reomplir el buits, però per simplicitat, anem a eliminar eixes columnes."
   ]
  },
  {
   "cell_type": "code",
   "execution_count": null,
   "metadata": {},
   "outputs": [],
   "source": [
    "home_data_encoded = home_data_encoded.dropna(axis=1)\n",
    "print(home_data_encoded.info())"
   ]
  },
  {
   "cell_type": "markdown",
   "metadata": {},
   "source": [
    "Finalment ens hem quedat amb 76 columnes. Pareix que ja tenim les dades preparades."
   ]
  },
  {
   "cell_type": "markdown",
   "metadata": {},
   "source": [
    "### Pregunta 1 - Divisió en blocs d'entrenament i validació\n",
    "\n",
    "Divideix les dades en blocs per a entrenament i validació. En este cas, anem a utilitzar totes les columnes (recorda que ja vam estudiar com passar les columnes categòriques a dades numèriques), excepte el target per a entrenar els models. Recorda utilitzar el *random_state = 1*"
   ]
  },
  {
   "cell_type": "code",
   "execution_count": null,
   "metadata": {},
   "outputs": [],
   "source": []
  },
  {
   "cell_type": "markdown",
   "metadata": {},
   "source": [
    "### Pregunta 2 - DecisionTreeRegressor\n",
    "\n",
    "Aplica l'algorisme *DecisionTreeRegressor* i calcula el seu MAE. Ha millorat o ha empijorat? Perquè?"
   ]
  },
  {
   "cell_type": "code",
   "execution_count": null,
   "metadata": {},
   "outputs": [],
   "source": [
    "from sklearn.tree import DecisionTreeRegressor\n",
    "from sklearn.metrics import mean_absolute_error\n",
    "\n",
    "##"
   ]
  },
  {
   "cell_type": "markdown",
   "metadata": {},
   "source": []
  },
  {
   "cell_type": "markdown",
   "metadata": {},
   "source": [
    "### Pregunta 4 - Regressió linial\n",
    "\n",
    "Crea un model de regressió linial i calcula l'error absolt mitjà."
   ]
  },
  {
   "cell_type": "code",
   "execution_count": null,
   "metadata": {},
   "outputs": [],
   "source": [
    "from sklearn.linear_model import LinearRegression\n"
   ]
  },
  {
   "cell_type": "markdown",
   "metadata": {},
   "source": [
    "### Pregunta 5 - Support Vector Machines (SVM)\n",
    "\n",
    "Crea un model de SVM i calcula l'error absolt mitjà."
   ]
  },
  {
   "cell_type": "code",
   "execution_count": null,
   "metadata": {},
   "outputs": [],
   "source": [
    "from sklearn.svm import SVR\n"
   ]
  },
  {
   "cell_type": "markdown",
   "metadata": {},
   "source": [
    "### Pregunta 6 - Random Forest\n",
    "\n",
    "Crea un model de *Random Forest* (amb random_state = 1) i calcula l'error absolt mitjà."
   ]
  },
  {
   "cell_type": "code",
   "execution_count": null,
   "metadata": {},
   "outputs": [],
   "source": [
    "from sklearn.ensemble import RandomForestRegressor\n"
   ]
  },
  {
   "cell_type": "markdown",
   "metadata": {},
   "source": [
    "### Pregunta 7 - GradientBoostingRegressor\n",
    "\n",
    "Crea un model de *GradientBoostingRegressor* i calcula l'error absolt mitjà."
   ]
  },
  {
   "cell_type": "code",
   "execution_count": null,
   "metadata": {},
   "outputs": [],
   "source": [
    "from sklearn.ensemble import GradientBoostingRegressor\n"
   ]
  },
  {
   "cell_type": "markdown",
   "metadata": {},
   "source": [
    "### Pregunta 8 - Regressió LASSO\n",
    "\n",
    "Crea un model de *Lasso* amb alpha = 1 i random_state = 1 i calcula l'error absolt mitjà."
   ]
  },
  {
   "cell_type": "code",
   "execution_count": null,
   "metadata": {},
   "outputs": [],
   "source": [
    "from sklearn.linear_model import Lasso\n"
   ]
  },
  {
   "cell_type": "markdown",
   "metadata": {},
   "source": [
    "### Pregunta 9 - Regressió RIDGE\n",
    "\n",
    "Crea un model de *Ridge* amb alpha = 1 i random_state = 1 i calcula l'error absolt mitjà."
   ]
  },
  {
   "cell_type": "code",
   "execution_count": null,
   "metadata": {},
   "outputs": [],
   "source": [
    "from sklearn.linear_model import Ridge\n"
   ]
  },
  {
   "cell_type": "markdown",
   "metadata": {},
   "source": [
    "### Pregunta 10 - Comparació de resultats\n",
    "\n",
    "Quin model escolliries per fer les teues prediccions? Fes un gràfic per reforçar la teua resposta."
   ]
  },
  {
   "cell_type": "markdown",
   "metadata": {},
   "source": [
    "El millor model és el GradientBoostingRegressor ja que té l'error absolut mitjà més baix. Per comparar els errors, podem fer un gràfic de barres."
   ]
  },
  {
   "cell_type": "code",
   "execution_count": null,
   "metadata": {},
   "outputs": [],
   "source": []
  }
 ],
 "metadata": {
  "kernelspec": {
   "display_name": "pia",
   "language": "python",
   "name": "python3"
  },
  "language_info": {
   "codemirror_mode": {
    "name": "ipython",
    "version": 3
   },
   "file_extension": ".py",
   "mimetype": "text/x-python",
   "name": "python",
   "nbconvert_exporter": "python",
   "pygments_lexer": "ipython3",
   "version": "3.11.5"
  }
 },
 "nbformat": 4,
 "nbformat_minor": 2
}
