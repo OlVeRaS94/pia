{
 "cells": [
  {
   "cell_type": "code",
   "execution_count": 18,
   "metadata": {},
   "outputs": [],
   "source": [
    "from requests_html import HTMLSession"
   ]
  },
  {
   "cell_type": "code",
   "execution_count": 19,
   "metadata": {},
   "outputs": [],
   "source": [
    "session = HTMLSession()"
   ]
  },
  {
   "cell_type": "code",
   "execution_count": 27,
   "metadata": {},
   "outputs": [],
   "source": [
    "r = session.request(method=\"GET\", url=\"https://en.wikipedia.org/wiki/Scocer\")\n",
    "links =r.html.absolute_links"
   ]
  },
  {
   "cell_type": "code",
   "execution_count": 28,
   "metadata": {},
   "outputs": [
    {
     "data": {
      "text/plain": [
       "'Random article'"
      ]
     },
     "execution_count": 28,
     "metadata": {},
     "output_type": "execute_result"
    }
   ],
   "source": [
    "links = r.html.find(\"a\")\n",
    "links[4].html\n",
    "links[4].text"
   ]
  },
  {
   "cell_type": "code",
   "execution_count": 29,
   "metadata": {},
   "outputs": [
    {
     "data": {
      "text/plain": [
       "[<Element 'a' href='//en.wikipedia.org/wiki/Wikipedia:Contact_us'>,\n",
       " <Element 'a' href='/wiki/Wikipedia:About'>,\n",
       " <Element 'a' dir='ltr' href='https://en.wikipedia.org/wiki/Scocer'>,\n",
       " <Element 'a' href='/wiki/Special:WhatLinksHere/Scocer' title='Special:WhatLinksHere/Scocer'>,\n",
       " <Element 'a' class=('external', 'text') href='https://en.wikipedia.org/w/index.php?search=Scocer&title=Special%3ASearch&fulltext=1'>,\n",
       " <Element 'a' href='/wiki/Wikipedia:About' title='Learn about Wikipedia and how it works'>]"
      ]
     },
     "execution_count": 29,
     "metadata": {},
     "output_type": "execute_result"
    }
   ],
   "source": [
    "r.html.find(\"a\",containing=\"wikipedia\")"
   ]
  },
  {
   "cell_type": "code",
   "execution_count": 30,
   "metadata": {},
   "outputs": [
    {
     "data": {
      "text/plain": [
       "['Contact Wikipedia',\n",
       " 'About Wikipedia',\n",
       " 'https://en.wikipedia.org/wiki/Scocer',\n",
       " 'Look for pages within Wikipedia that link to this title',\n",
       " 'search for Scocer in Wikipedia',\n",
       " 'About Wikipedia']"
      ]
     },
     "execution_count": 30,
     "metadata": {},
     "output_type": "execute_result"
    }
   ],
   "source": [
    "[tag.text for tag in r.html.find(\"a\",containing=\"wikipedia\")]"
   ]
  },
  {
   "cell_type": "code",
   "execution_count": 31,
   "metadata": {},
   "outputs": [
    {
     "data": {
      "text/plain": [
       "[]"
      ]
     },
     "execution_count": 31,
     "metadata": {},
     "output_type": "execute_result"
    }
   ],
   "source": [
    "r.html.search_all(\"known{}soccer\")"
   ]
  },
  {
   "cell_type": "code",
   "execution_count": 32,
   "metadata": {},
   "outputs": [
    {
     "data": {
      "text/plain": [
       "[<Element 'span' class=('vector-icon', 'mw-ui-icon-menu', 'mw-ui-icon-wikimedia-menu')>,\n",
       " <Element 'span' class=('vector-dropdown-label-text',)>,\n",
       " <Element 'span' >,\n",
       " <Element 'span' >,\n",
       " <Element 'span' >,\n",
       " <Element 'span' >,\n",
       " <Element 'span' >,\n",
       " <Element 'span' >,\n",
       " <Element 'span' >,\n",
       " <Element 'span' >,\n",
       " <Element 'span' >,\n",
       " <Element 'span' >,\n",
       " <Element 'span' >,\n",
       " <Element 'span' class=('mw-logo-container', 'skin-invert')>,\n",
       " <Element 'span' class=('vector-icon', 'mw-ui-icon-search', 'mw-ui-icon-wikimedia-search')>,\n",
       " <Element 'span' >,\n",
       " <Element 'span' class=('cdx-text-input__icon', 'cdx-text-input__start-icon')>,\n",
       " <Element 'span' class=('vector-icon', 'mw-ui-icon-appearance', 'mw-ui-icon-wikimedia-appearance')>,\n",
       " <Element 'span' class=('vector-dropdown-label-text',)>,\n",
       " <Element 'span' >,\n",
       " <Element 'span' >,\n",
       " <Element 'span' >,\n",
       " <Element 'span' class=('vector-icon', 'mw-ui-icon-ellipsis', 'mw-ui-icon-wikimedia-ellipsis')>,\n",
       " <Element 'span' class=('vector-dropdown-label-text',)>,\n",
       " <Element 'span' >,\n",
       " <Element 'span' class=('vector-icon', 'mw-ui-icon-userAdd', 'mw-ui-icon-wikimedia-userAdd')>,\n",
       " <Element 'span' >,\n",
       " <Element 'span' class=('vector-icon', 'mw-ui-icon-logIn', 'mw-ui-icon-wikimedia-logIn')>,\n",
       " <Element 'span' >,\n",
       " <Element 'span' >,\n",
       " <Element 'span' >,\n",
       " <Element 'span' >,\n",
       " <Element 'span' class=('mw-page-title-main',)>,\n",
       " <Element 'span' class=('vector-icon', 'mw-ui-icon-language', 'mw-ui-icon-wikimedia-language')>,\n",
       " <Element 'span' class=('vector-dropdown-label-text',)>,\n",
       " <Element 'span' >,\n",
       " <Element 'span' >,\n",
       " <Element 'span' class=('vector-dropdown-label-text',)>,\n",
       " <Element 'span' class=('vector-dropdown-label-text',)>,\n",
       " <Element 'span' >,\n",
       " <Element 'span' >,\n",
       " <Element 'span' >,\n",
       " <Element 'span' >,\n",
       " <Element 'span' >,\n",
       " <Element 'span' >,\n",
       " <Element 'span' >,\n",
       " <Element 'span' typeof='mw:File'>,\n",
       " <Element 'span' >,\n",
       " <Element 'span' typeof='mw:File'>,\n",
       " <Element 'span' >,\n",
       " <Element 'span' typeof='mw:File'>,\n",
       " <Element 'span' >,\n",
       " <Element 'span' typeof='mw:File'>,\n",
       " <Element 'span' >,\n",
       " <Element 'span' typeof='mw:File'>,\n",
       " <Element 'span' >,\n",
       " <Element 'span' typeof='mw:File'>,\n",
       " <Element 'span' >,\n",
       " <Element 'span' typeof='mw:File'>,\n",
       " <Element 'span' >,\n",
       " <Element 'span' typeof='mw:File'>,\n",
       " <Element 'span' >,\n",
       " <Element 'span' typeof='mw:File'>,\n",
       " <Element 'span' >,\n",
       " <Element 'span' typeof='mw:File'>,\n",
       " <Element 'span' >,\n",
       " <Element 'span' class=('plainlinks',)>,\n",
       " <Element 'span' class=('plainlinks',)>,\n",
       " <Element 'span' class=('plainlinks',)>,\n",
       " <Element 'span' class=('vector-icon', 'mw-ui-icon-search', 'mw-ui-icon-wikimedia-search')>,\n",
       " <Element 'span' >,\n",
       " <Element 'span' class=('cdx-text-input__icon', 'cdx-text-input__start-icon')>,\n",
       " <Element 'span' class=('mw-page-title-main',)>,\n",
       " <Element 'span' class=('vector-icon', 'mw-ui-icon-speechBubbles', 'mw-ui-icon-wikimedia-speechBubbles')>,\n",
       " <Element 'span' >,\n",
       " <Element 'span' class=('vector-icon', 'mw-ui-icon-article', 'mw-ui-icon-wikimedia-article')>,\n",
       " <Element 'span' >,\n",
       " <Element 'span' class=('vector-icon', 'mw-ui-icon-wikimedia-history', 'mw-ui-icon-wikimedia-wikimedia-history')>,\n",
       " <Element 'span' >,\n",
       " <Element 'span' class=('vector-icon', 'mw-ui-icon-wikimedia-star', 'mw-ui-icon-wikimedia-wikimedia-star')>,\n",
       " <Element 'span' >,\n",
       " <Element 'span' class=('vector-icon', 'mw-ui-icon-wikimedia-wikiText', 'mw-ui-icon-wikimedia-wikimedia-wikiText')>,\n",
       " <Element 'span' >,\n",
       " <Element 'span' class=('vector-icon', 'mw-ui-icon-wikimedia-edit', 'mw-ui-icon-wikimedia-wikimedia-edit')>,\n",
       " <Element 'span' >,\n",
       " <Element 'span' class=('vector-icon', 'mw-ui-icon-wikimedia-editLock', 'mw-ui-icon-wikimedia-wikimedia-editLock')>,\n",
       " <Element 'span' >,\n",
       " <Element 'span' class=('vector-icon', 'mw-ui-icon-speechBubbleAdd-progressive', 'mw-ui-icon-wikimedia-speechBubbleAdd-progressive')>,\n",
       " <Element 'span' >]"
      ]
     },
     "execution_count": 32,
     "metadata": {},
     "output_type": "execute_result"
    }
   ],
   "source": [
    "r.html.find(\"span\")"
   ]
  },
  {
   "cell_type": "code",
   "execution_count": 33,
   "metadata": {},
   "outputs": [
    {
     "data": {
      "text/plain": [
       "[]"
      ]
     },
     "execution_count": 33,
     "metadata": {},
     "output_type": "execute_result"
    }
   ],
   "source": [
    "r.html.find(\"#Name\")"
   ]
  },
  {
   "cell_type": "code",
   "execution_count": 34,
   "metadata": {},
   "outputs": [
    {
     "data": {
      "text/plain": [
       "[]"
      ]
     },
     "execution_count": 34,
     "metadata": {},
     "output_type": "execute_result"
    }
   ],
   "source": [
    "r.html.find(\"#name\")"
   ]
  },
  {
   "cell_type": "code",
   "execution_count": 35,
   "metadata": {},
   "outputs": [],
   "source": [
    "r.html.find(\"#Duration_and_tie-breaking_methods\", first=True)"
   ]
  },
  {
   "cell_type": "code",
   "execution_count": 36,
   "metadata": {},
   "outputs": [
    {
     "data": {
      "text/plain": [
       "[]"
      ]
     },
     "execution_count": 36,
     "metadata": {},
     "output_type": "execute_result"
    }
   ],
   "source": [
    "r.html.find(\".mw-headline\")"
   ]
  },
  {
   "cell_type": "code",
   "execution_count": 37,
   "metadata": {},
   "outputs": [
    {
     "data": {
      "text/plain": [
       "[]"
      ]
     },
     "execution_count": 37,
     "metadata": {},
     "output_type": "execute_result"
    }
   ],
   "source": [
    "r.html.find(\".metadata\")"
   ]
  },
  {
   "cell_type": "code",
   "execution_count": 38,
   "metadata": {},
   "outputs": [
    {
     "data": {
      "text/plain": [
       "[]"
      ]
     },
     "execution_count": 38,
     "metadata": {},
     "output_type": "execute_result"
    }
   ],
   "source": [
    "r.html.find(\".metadata.plainlinks\")"
   ]
  },
  {
   "cell_type": "code",
   "execution_count": 40,
   "metadata": {},
   "outputs": [
    {
     "data": {
      "text/plain": [
       "[]"
      ]
     },
     "execution_count": 40,
     "metadata": {},
     "output_type": "execute_result"
    }
   ],
   "source": [
    "r.html.find(\"[target]\")"
   ]
  },
  {
   "cell_type": "code",
   "execution_count": 43,
   "metadata": {},
   "outputs": [
    {
     "data": {
      "text/plain": [
       "[]"
      ]
     },
     "execution_count": 43,
     "metadata": {},
     "output_type": "execute_result"
    }
   ],
   "source": [
    "r.html.find(\"[role=note]\")"
   ]
  },
  {
   "cell_type": "code",
   "execution_count": 44,
   "metadata": {},
   "outputs": [
    {
     "data": {
      "text/plain": [
       "[<Element 'link' rel=('alternate',) media='only screen and (max-width: 640px)' href='//en.m.wikipedia.org/wiki/Scocer'>,\n",
       " <Element 'link' rel=('apple-touch-icon',) href='/static/apple-touch/wikipedia.png'>,\n",
       " <Element 'link' rel=('icon',) href='/static/favicon/wikipedia.ico'>,\n",
       " <Element 'link' rel=('EditURI',) type='application/rsd+xml' href='//en.wikipedia.org/w/api.php?action=rsd'>,\n",
       " <Element 'link' rel=('canonical',) href='https://en.wikipedia.org/wiki/Scocer'>,\n",
       " <Element 'a' href='//en.wikipedia.org/wiki/Wikipedia:Contact_us' title='How to contact Wikipedia'>,\n",
       " <Element 'a' data-mw='interface' href='https://donate.wikimedia.org/?wmf_source=donate&wmf_medium=sidebar&wmf_campaign=en.wikipedia.org&uselang=en' class=()>,\n",
       " <Element 'a' href='https://donate.wikimedia.org/?wmf_source=donate&wmf_medium=sidebar&wmf_campaign=en.wikipedia.org&uselang=en'>,\n",
       " <Element 'a' href='/w/index.php?title=Special:UrlShortener&url=https%3A%2F%2Fen.wikipedia.org%2Fwiki%2FScocer'>,\n",
       " <Element 'a' href='/w/index.php?title=Special:QrCode&url=https%3A%2F%2Fen.wikipedia.org%2Fwiki%2FScocer'>,\n",
       " <Element 'a' class=('external', 'text') href='https://en.wikipedia.org/w/index.php?search=Scocer&title=Special%3ASearch&fulltext=1'>,\n",
       " <Element 'a' class=('external', 'text') href='https://en.wikipedia.org/w/index.php?title=Special:UserLogin&returnto=Scocer'>,\n",
       " <Element 'a' class=('external', 'text') href='https://en.wikipedia.org/w/index.php?search=Scocer&title=Special%3ASearch&fulltext=1&ns0=1'>,\n",
       " <Element 'a' class=('external', 'text') href='https://en.wikipedia.org/w/index.php?search=Scocer&title=Special%3ASearch&fulltext=1'>,\n",
       " <Element 'a' class=('external', 'text') href='https://en.wikipedia.org/w/index.php?title=Special:Log/delete&page=Scocer'>,\n",
       " <Element 'a' dir='ltr' href='https://en.wikipedia.org/wiki/Scocer'>,\n",
       " <Element 'a' href='//en.wikipedia.org/wiki/Wikipedia:Contact_us'>,\n",
       " <Element 'a' href='https://stats.wikimedia.org/#/en.wikipedia.org'>,\n",
       " <Element 'a' href='//en.m.wikipedia.org/w/index.php?title=Scocer&mobileaction=toggle_view_mobile' class=('noprint', 'stopMobileRedirectToggle')>]"
      ]
     },
     "execution_count": 44,
     "metadata": {},
     "output_type": "execute_result"
    }
   ],
   "source": [
    "r.html.find(\"[href*=wikipedia]\")"
   ]
  },
  {
   "cell_type": "code",
   "execution_count": 45,
   "metadata": {},
   "outputs": [
    {
     "data": {
      "text/plain": [
       "[<Element 'a' href='/wiki/Wikipedia:Contents' title='Guides to browsing Wikipedia'>,\n",
       " <Element 'a' href='/wiki/Wikipedia:About' title='Learn about Wikipedia and how it works'>,\n",
       " <Element 'a' href='//en.wikipedia.org/wiki/Wikipedia:Contact_us' title='How to contact Wikipedia'>,\n",
       " <Element 'a' href='/wiki/Wikipedia:Community_portal' title='The hub for editors'>,\n",
       " <Element 'a' href='/wiki/Wikipedia:File_upload_wizard' title='Add images or other media for use on Wikipedia'>,\n",
       " <Element 'a' href='/wiki/Wikipedia:File_Upload_Wizard' title='Upload files [u]' accesskey='u'>,\n",
       " <Element 'a' href='/wiki/Wikipedia:User_access_levels#Autoconfirmed_users' title='Wikipedia:User access levels'>,\n",
       " <Element 'a' href='/wiki/Wikipedia:Article_wizard' title='Wikipedia:Article wizard'>,\n",
       " <Element 'a' href='/wiki/Wikipedia:Requested_articles' title='Wikipedia:Requested articles'>,\n",
       " <Element 'a' href='/wiki/Wikipedia:Redirect' title='Wikipedia:Redirect'>,\n",
       " <Element 'a' href='/wiki/Wikipedia:Why_was_the_page_I_created_deleted%3F' title='Wikipedia:Why was the page I created deleted?'>,\n",
       " <Element 'a' href='/wiki/Wikipedia:About'>,\n",
       " <Element 'a' href='/wiki/Wikipedia:General_disclaimer'>,\n",
       " <Element 'a' href='//en.wikipedia.org/wiki/Wikipedia:Contact_us'>]"
      ]
     },
     "execution_count": 45,
     "metadata": {},
     "output_type": "execute_result"
    }
   ],
   "source": [
    "r.html.find(\"a[href*=Wikipedia]\")"
   ]
  },
  {
   "cell_type": "code",
   "execution_count": 46,
   "metadata": {},
   "outputs": [
    {
     "data": {
      "text/plain": [
       "[]"
      ]
     },
     "execution_count": 46,
     "metadata": {},
     "output_type": "execute_result"
    }
   ],
   "source": [
    "r.html.find(\"a.internal\")"
   ]
  },
  {
   "cell_type": "code",
   "execution_count": 47,
   "metadata": {},
   "outputs": [
    {
     "data": {
      "text/plain": [
       "[]"
      ]
     },
     "execution_count": 47,
     "metadata": {},
     "output_type": "execute_result"
    }
   ],
   "source": [
    "r.html.find(\"div.thumb.tright\")"
   ]
  },
  {
   "cell_type": "code",
   "execution_count": 48,
   "metadata": {},
   "outputs": [
    {
     "data": {
      "text/plain": [
       "[]"
      ]
     },
     "execution_count": 48,
     "metadata": {},
     "output_type": "execute_result"
    }
   ],
   "source": [
    "r.html.find(\"div[role=note][class='hatnote navigation-not-searchable']\")"
   ]
  },
  {
   "cell_type": "code",
   "execution_count": null,
   "metadata": {},
   "outputs": [],
   "source": []
  }
 ],
 "metadata": {
  "kernelspec": {
   "display_name": "venv",
   "language": "python",
   "name": "python3"
  },
  "language_info": {
   "codemirror_mode": {
    "name": "ipython",
    "version": 3
   },
   "file_extension": ".py",
   "mimetype": "text/x-python",
   "name": "python",
   "nbconvert_exporter": "python",
   "pygments_lexer": "ipython3",
   "version": "3.12.3"
  }
 },
 "nbformat": 4,
 "nbformat_minor": 2
}
