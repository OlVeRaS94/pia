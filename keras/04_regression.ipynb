{
 "cells": [
  {
   "cell_type": "markdown",
   "metadata": {},
   "source": [
    "## Xarxes neuronals - Regressió\n",
    "Selecciona un dataset del següent [repositori](https://archive.ics.uci.edu/datasets?Task=Regression) i crea un model basat en aprenentatge profund per resoldre un problema de **regressió** que ens done la màxima precisió possible. Utilitza tot el que saps fins al moment, recolzat en gràfiques...\n",
    "\n",
    "Fes un comentari final dels resultats."
   ]
  }
 ],
 "metadata": {
  "language_info": {
   "name": "python"
  }
 },
 "nbformat": 4,
 "nbformat_minor": 2
}
