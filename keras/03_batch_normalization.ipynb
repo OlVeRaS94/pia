{
 "cells": [
  {
   "cell_type": "markdown",
   "metadata": {},
   "source": [
    "## *Batch normalization*\n",
    "En esta activitat observarem com la normalització de lots pot solucionar problemes en l'entrenament.\n",
    "\n",
    "Carregueu el [dataset *Concrete*](../data/concrete.csv). Aquesta vegada no estandarditzarem les dades abans de passar-les a entrenament, així podrem observar com l'efecte de la normalització de lots es fa molt més evident."
   ]
  },
  {
   "cell_type": "code",
   "execution_count": null,
   "metadata": {},
   "outputs": [],
   "source": [
    "import pandas as pd\n",
    "\n",
    "concrete = pd.read_csv('data/concrete.csv')\n",
    "df = concrete.copy()\n",
    "\n",
    "df_train = df.sample(frac=0.7, random_state=0) # train_test_split amb pandas\n",
    "df_valid = df.drop(df_train.index) # eliminem els index que estan a df_train\n",
    "\n",
    "X_train = df_train.drop('CompressiveStrength', axis=1)\n",
    "X_valid = df_valid.drop('CompressiveStrength', axis=1)\n",
    "y_train = df_train['CompressiveStrength']\n",
    "y_valid = df_valid['CompressiveStrength']\n",
    "\n",
    "input_shape = [X_train.shape[1]]\n",
    "\n",
    "X_train.head()"
   ]
  },
  {
   "cell_type": "markdown",
   "metadata": {},
   "source": [
    "### Pregunta 1\n",
    "Defineix una xarxa neuronal amb 4 capes:\n",
    "- tres de 512 neurones\n",
    "- la capa d'eixida\n",
    "- la funció d'activació serà *relu* per a totes elles\n",
    "\n",
    "Compila el model amb:\n",
    "- optimitzador *sgd*\n",
    "- la funció de pèrdua *mae*\n",
    "- la mètrica *mae*\n",
    "\n",
    "Entrena la xarxa amb:\n",
    "- 64 mostres per lot\n",
    "- 100 èpoques\n",
    "\n",
    "Representa les corbes d'aprenentatge.\n",
    "\n",
    "No et preocupes si el gràfic està en blanc. Intentar entrenar aquesta xarxa amb aquest conjunt de dades normalment fallarà. Fins i tot quan convergeix, a causa d'una inicialització de pes afortunat, tendeix a convergir a un número molt gran."
   ]
  },
  {
   "cell_type": "markdown",
   "metadata": {},
   "source": [
    "### Pregunta 2\n",
    "\n",
    "Afegiu capes de normalització de lots. La normalització de lots pot ajudar a corregir problemes com aquest.\n",
    "\n",
    "Afegiu quatre capes de \"BatchNormalization\", una abans de cadascuna de les capes denses i torneu a representar les corbes d'aprenentatge."
   ]
  },
  {
   "cell_type": "markdown",
   "metadata": {},
   "source": [
    "### Pregunta 3\n",
    "Representa en dos subplots les corbes d'aprenentatge de les preguntes anteriors. Comenta les gràfiques."
   ]
  }
 ],
 "metadata": {
  "kernelspec": {
   "display_name": "pia",
   "language": "python",
   "name": "python3"
  },
  "language_info": {
   "codemirror_mode": {
    "name": "ipython",
    "version": 3
   },
   "file_extension": ".py",
   "mimetype": "text/x-python",
   "name": "python",
   "nbconvert_exporter": "python",
   "pygments_lexer": "ipython3",
   "version": "3.11.5"
  }
 },
 "nbformat": 4,
 "nbformat_minor": 2
}
