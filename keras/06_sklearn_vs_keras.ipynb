{
 "cells": [
  {
   "cell_type": "markdown",
   "metadata": {},
   "source": [
    "## Algorismes clàssics front a xarxes neuronals\n",
    "A l'apartat anterior sobre sklearn, vam intentar predir el [preu d'una casa a IOWA](../data/iowa.csv) utilitzant algorismes clàssics de Machine Learning. La conclussiṕo va ser que el millor algorisme, en principi i intentar ajustar els hiperparàmetres, era el GradientBoostingRegressor amb un MAE de 14755$.\n",
    "\n",
    "Implementa un model basat en aprenentatge profund amb el mínim `val_loss` possible i que incorpore allò que hem aprés sobre xarxes neuronals.\n",
    "\n",
    "Compara els resultats amb els resultats obtesos amb algorismes clàssics d'sklearn."
   ]
  }
 ],
 "metadata": {
  "kernelspec": {
   "display_name": "pia",
   "language": "python",
   "name": "python3"
  },
  "language_info": {
   "codemirror_mode": {
    "name": "ipython",
    "version": 3
   },
   "file_extension": ".py",
   "mimetype": "text/x-python",
   "name": "python",
   "nbconvert_exporter": "python",
   "pygments_lexer": "ipython3",
   "version": "3.11.5"
  }
 },
 "nbformat": 4,
 "nbformat_minor": 2
}
