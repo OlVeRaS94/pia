{
 "cells": [
  {
   "cell_type": "code",
   "execution_count": null,
   "metadata": {},
   "outputs": [],
   "source": [
    "\n"
   ]
  },
  {
   "cell_type": "markdown",
   "metadata": {},
   "source": [
    "## Linecharts\n",
    "\n",
    "Recentment t'han contractat per gestionar els museus de la ciutat de Los Angeles. El vostre primer projecte se centra en els quatre museus següents:\n",
    "\n",
    "- Avila Adobe\n",
    "- Firehouse Museum\n",
    "- Chinese American Museum\n",
    "- America Tropical Inventive Museum"
   ]
  },
  {
   "cell_type": "markdown",
   "metadata": {},
   "source": [
    "## Pregunta 1\n",
    "\n",
    "Importeu les dades de l'arxiu `museum_visitors.csv` i configureu l'entorn amb pandas, seaborn i matplotlib."
   ]
  },
  {
   "cell_type": "code",
   "execution_count": null,
   "metadata": {},
   "outputs": [],
   "source": []
  },
  {
   "cell_type": "markdown",
   "metadata": {},
   "source": [
    "## Pregunta 2\n",
    "\n",
    "El Firehouse Museum afirma que van organitzar un esdeveniment el 2014 que va portar un nombre increïble de visitants i que haurien d'obtenir un pressupost addicional per tornar a organitzar un esdeveniment similar. Els altres museus pensen que aquest tipus d'esdeveniments no són tan importants, i els pressupostos s'han de dividir exclusivament en funció dels visitants recents en un dia mitjà.\n",
    "\n",
    "Per mostrar al tauler del museu com l'esdeveniment es compara amb el trànsit habitual de cada museu, creeu un gràfic de línies que mostre com ha evolucionat el nombre de visitants de cada museu al llarg del temps."
   ]
  },
  {
   "cell_type": "code",
   "execution_count": null,
   "metadata": {},
   "outputs": [],
   "source": []
  },
  {
   "cell_type": "markdown",
   "metadata": {},
   "source": [
    "## Pregunta 3: avaluar l'estacionalitat\n",
    "\n",
    "Quan es reuneix amb els empleats d'Avila Adobe, escolteu que un dels principals problemes és que el nombre de visitants del museu varia molt segons les estacions, amb temporades baixes (quan els empleats estan contents) i també temporades altes (quan els empleats tenen poc personal i estan estressats). Us adoneu que si podeu predir aquestes temporades altes i baixes, podeu anticipar-vos i contractar alguns empleats de temporada addicionals per ajudar-vos amb el treball addicional.\n",
    "\n",
    "Creeu un gràfic de línies que mostre com ha evolucionat el nombre de visitants a Avila Adobe al llarg del temps."
   ]
  },
  {
   "cell_type": "code",
   "execution_count": null,
   "metadata": {},
   "outputs": [],
   "source": []
  },
  {
   "cell_type": "markdown",
   "metadata": {},
   "source": [
    "## Pregunta 4\n",
    "\n",
    "Fes un gràfic per al museu per cada any.\n",
    "\n",
    "Avila Adobe rep més visitants:\n",
    "- al setembre-febrer (a LA, els mesos de tardor i hivern), o\n",
    "- al març-agost (a LA, la primavera i l'estiu)?\n",
    "\n",
    "Amb aquesta informació, quan hauria de dotar el museu d'empleats de temporada addicionals?"
   ]
  },
  {
   "cell_type": "code",
   "execution_count": null,
   "metadata": {},
   "outputs": [],
   "source": []
  },
  {
   "cell_type": "markdown",
   "metadata": {},
   "source": [
    "El gràfic de línies generalment baixa a valors relativament baixos al voltant de la primera part de cada any (al desembre i gener) i assoleix els seus valors més alts a mitjans de l'any (especialment al voltant de maig i juny). Així, Avila Adobe acostuma a rebre més visitants entre març i agost (o els mesos de primavera i estiu). Tenint això en compte, Avila Adobe definitivament es podria beneficiar de la contractació de més empleats de temporada per ajudar amb la feina addicional de març a agost (la primavera i l'estiu)!"
   ]
  },
  {
   "cell_type": "markdown",
   "metadata": {},
   "source": [
    "## Pregunta 5\n",
    "\n",
    "Passa el mateix a la resta de museus? Fes un gràfic per a cada museu de l'any 2018 i justifica si es produeix el mateix fenòmen a la resta de museus."
   ]
  },
  {
   "cell_type": "code",
   "execution_count": null,
   "metadata": {},
   "outputs": [],
   "source": []
  }
 ],
 "metadata": {
  "kernelspec": {
   "display_name": "pia",
   "language": "python",
   "name": "python3"
  },
  "language_info": {
   "codemirror_mode": {
    "name": "ipython",
    "version": 3
   },
   "file_extension": ".py",
   "mimetype": "text/x-python",
   "name": "python",
   "nbconvert_exporter": "python",
   "pygments_lexer": "ipython3",
   "version": "3.11.5"
  }
 },
 "nbformat": 4,
 "nbformat_minor": 2
}
