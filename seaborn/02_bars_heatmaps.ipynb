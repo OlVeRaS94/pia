{
 "cells": [
  {
   "cell_type": "markdown",
   "metadata": {},
   "source": [
    "## Gràfics de barres i mapes de calor\n",
    "\n",
    "Recentment has decidit crear el teu propi videojoc! Com a àvid lector de [IGN Game Reviews](https://www.ign.com/reviews/games), coneixeu tots els llançaments de jocs més recents, juntament amb la classificació que han rebut d'experts, que van des de 0 (_Desastre_) a 10 (_Obra mestra_).\n",
    "\n",
    "![ex2_ign](https://storage.googleapis.com/kaggle-media/learn/images/Oh06Fu1.png)\n",
    "\n",
    "T'interessa utilitzar [IGN reviews](https://www.ign.com/reviews/games) per guiar el disseny del teu proper joc. Afortunadament, algú ha resumit els rànquings en un fitxer CSV molt útil que podeu utilitzar per guiar el vostre anàlisi."
   ]
  },
  {
   "cell_type": "code",
   "execution_count": null,
   "metadata": {},
   "outputs": [],
   "source": [
    "import pandas as pd\n",
    "pd.plotting.register_matplotlib_converters()\n",
    "import matplotlib.pyplot as plt\n",
    "%matplotlib inline\n",
    "import seaborn as sns\n",
    "\n",
    "# Path of the file to read\n",
    "ign_filepath = \"data/ign_scores.csv\"\n",
    "\n",
    "# Fill in the line below to read the file into a variable ign_data\n",
    "ign_data = pd.read_csv(ign_filepath, index_col=\"Platform\")\n",
    "ign_data.head()"
   ]
  },
  {
   "cell_type": "markdown",
   "metadata": {},
   "source": [
    "## Pregunta 1: quina plataforma és la millor?\n",
    "\n",
    "Des que recordeu, el vostre videojoc preferit ha sigut [**Mario Kart Wii**](https://www.ign.com/games/mario-kart-wii), un joc de carreres llançat per a la plataforma Wii el 2008. I, IGN està d'acord amb tu que és un joc fantàstic: la seva puntuació per a aquest joc és un 8,9. Inspirat per l'èxit d'aquest joc, estàs pensant en crear el teu propi joc de carreres per a la plataforma Wii.\n",
    "\n",
    "#### Part A\n",
    "\n",
    "Creeu un gràfic de barres que mostre la puntuació mitjana dels jocs de carreres (**Racing**), per a cada plataforma."
   ]
  },
  {
   "cell_type": "code",
   "execution_count": null,
   "metadata": {},
   "outputs": [],
   "source": []
  },
  {
   "cell_type": "markdown",
   "metadata": {},
   "source": [
    "#### Part B\n",
    "\n",
    "Segons el gràfic de barres, espereu que un joc de carreres per a la plataforma **Wii** reba una puntuació alta? Si no, quina plataforma de joc sembla ser la millor alternativa?"
   ]
  },
  {
   "cell_type": "markdown",
   "metadata": {},
   "source": []
  },
  {
   "cell_type": "markdown",
   "metadata": {},
   "source": [
    "## Pregunta 2: Totes les combinacions possibles!\n",
    "\n",
    "Finalment, decideixes no crear un joc de carreres per a Wii, però encara estàs compromès a crear el teu propi videojoc. Com que els vostres interessos de joc són molt amplis (en general vos agraden molt la majoria dels videojocs), decidiu utilitzar les dades d'IGN per informar la vostra nova elecció de gènere i plataforma.\n",
    "\n",
    "#### Part A\n",
    "\n",
    "Utilitzeu les dades per crear un mapa de calor de la puntuació mitjana per gènere i plataforma."
   ]
  },
  {
   "cell_type": "code",
   "execution_count": null,
   "metadata": {},
   "outputs": [],
   "source": []
  },
  {
   "cell_type": "markdown",
   "metadata": {},
   "source": [
    "#### Part B\n",
    "\n",
    "Quina combinació de gènere i plataforma rep les valoracions mitjanes més altes? Quina combinació rep la classificació mitjana més baixa?"
   ]
  },
  {
   "cell_type": "markdown",
   "metadata": {},
   "source": []
  }
 ],
 "metadata": {
  "kernelspec": {
   "display_name": "pia",
   "language": "python",
   "name": "python3"
  },
  "language_info": {
   "codemirror_mode": {
    "name": "ipython",
    "version": 3
   },
   "file_extension": ".py",
   "mimetype": "text/x-python",
   "name": "python",
   "nbconvert_exporter": "python",
   "pygments_lexer": "ipython3",
   "version": "3.11.5"
  }
 },
 "nbformat": 4,
 "nbformat_minor": 2
}
